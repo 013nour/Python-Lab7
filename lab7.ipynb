{
 "cells": [
  {
   "cell_type": "markdown",
   "id": "228de8bc-d6e7-411a-add2-22aad2a9e243",
   "metadata": {},
   "source": [
    "Dictionary\n",
    "\n",
    "Build a phone book program that receives the phone number, and returns the name of the owner. You can follow the table below:\n",
    "\n",
    "Name\tNumber\n",
    "Amal\t1111111111\n",
    "Mohammed\t2222222222\n",
    "Khadijah\t3333333333\n",
    "Abdullah\t4444444444\n",
    "Rawan\t5555555555\n",
    "Faisal\t6666666666\n",
    "Layla\t7777777777\n",
    "\n",
    "If the number exists, print the owner. Otherwise, print \"Sorry, the number is not found\".\n",
    "If the number is less or more than 10 numbers, print \"This is invalid number\".\n",
    "If the number contains letters or symbols, print \"This is invalid number\"."
   ]
  },
  {
   "cell_type": "code",
   "execution_count": 56,
   "id": "e762bbdb-cc43-4dfb-a89f-215040a1a96e",
   "metadata": {
    "tags": []
   },
   "outputs": [
    {
     "name": "stdin",
     "output_type": "stream",
     "text": [
      "Enter the phone number :  5h3\n"
     ]
    },
    {
     "name": "stdout",
     "output_type": "stream",
     "text": [
      "This is invalid number\n"
     ]
    }
   ],
   "source": [
    "numberbook = { \"Amal\" : 1111111111, \n",
    "              \"Mohammed\" : 2222222222, \n",
    "              \"Khadijah\" : 3333333333, \n",
    "              \"Abdullah\" : 4444444444, \n",
    "              \"Rawan\" : 5555555555, \n",
    "              \"Faisal\" : 6666666666, \n",
    "              \"Layla\" : 7777777777}\n",
    "    \n",
    "number = input(\"Enter the phone number : \")\n",
    "\n",
    "if len(number) != 10 or number.isnumeric() == False :\n",
    "    print (\"This is invalid number\") \n",
    "elif int(number) in numberbook.values():  \n",
    "        print(list(numberbook.keys())[list(numberbook.values()).index(int(number))])\n",
    "else:\n",
    "    print (\"Sorry, the number is not found\")"
   ]
  }
 ],
 "metadata": {
  "kernelspec": {
   "display_name": "Python 3 (ipykernel)",
   "language": "python",
   "name": "python3"
  },
  "language_info": {
   "codemirror_mode": {
    "name": "ipython",
    "version": 3
   },
   "file_extension": ".py",
   "mimetype": "text/x-python",
   "name": "python",
   "nbconvert_exporter": "python",
   "pygments_lexer": "ipython3",
   "version": "3.11.5"
  }
 },
 "nbformat": 4,
 "nbformat_minor": 5
}
